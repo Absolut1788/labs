{
 "cells": [
  {
   "cell_type": "markdown",
   "metadata": {},
   "source": [
    "                   Московский Авиационный Институт  \n",
    "                                  (Национальный Исследовательский Университет)  \n",
    "\n",
    "\n",
    "\n",
    "Кафедра 806 «Вычислительная математика и программирование»  \n",
    "Институт: «Информационные технологии и прикладная математика»  \n",
    "Дисциплина: «Разработка ПО для высокопроизводительных систем»        \n",
    "\n",
    "\n",
    "\n",
    "                                        -------------------------------\n",
    "                                        Лабораторная работа по Pandas №3  \n",
    "                                        -------------------------------    \n",
    "\n",
    "\n",
    "\n",
    "                                                                            Группа: М8О-103М-20  \n",
    "                                                                            Студент: Машкевич Илья Константинович  \n",
    "                                                                            Преподаватель: Поповкин Александр Викторович "
   ]
  },
  {
   "cell_type": "markdown",
   "metadata": {},
   "source": [
    "Импорт библиотек"
   ]
  },
  {
   "cell_type": "code",
   "execution_count": 8,
   "metadata": {},
   "outputs": [],
   "source": [
    "import numpy as np\n",
    "import pandas as pd\n",
    "import matplotlib.pyplot as plt"
   ]
  },
  {
   "cell_type": "markdown",
   "metadata": {},
   "source": [
    "Найти евклидово расстояние между двумя объектами Series"
   ]
  },
  {
   "cell_type": "code",
   "execution_count": 3,
   "metadata": {},
   "outputs": [
    {
     "name": "stdout",
     "output_type": "stream",
     "text": [
      "0    1\n",
      "1    1\n",
      "2    3\n",
      "3    4\n",
      "4    1\n",
      "dtype: int32\n",
      "0    2\n",
      "1    3\n",
      "2    3\n",
      "3    4\n",
      "4    3\n",
      "dtype: int32\n",
      "3.0\n"
     ]
    }
   ],
   "source": [
    "s1 = pd.Series(np.random.randint(1, 5, 5))\n",
    "s2 = pd.Series(np.random.randint(1, 5, 5))\n",
    "eucDistance = np.linalg.norm(s1 - s2)\n",
    "print(s1)\n",
    "print(s2)\n",
    "print(eucDistance)"
   ]
  },
  {
   "cell_type": "markdown",
   "metadata": {},
   "source": [
    "Найти индексы локальных максимумов в объекте Series"
   ]
  },
  {
   "cell_type": "code",
   "execution_count": 4,
   "metadata": {},
   "outputs": [
    {
     "name": "stdout",
     "output_type": "stream",
     "text": [
      "[3 8 8 8 2 5 0 3 8 9]\n"
     ]
    },
    {
     "data": {
      "image/png": "[encoded data removed]",
      "text/plain": [
       "<Figure size 432x288 with 1 Axes>"
      ]
     },
     "metadata": {
      "needs_background": "light"
     },
     "output_type": "display_data"
    },
    {
     "name": "stdout",
     "output_type": "stream",
     "text": [
      "[-1  0 -1  2 -2  2  0  0]\n",
      "[5]\n"
     ]
    }
   ],
   "source": [
    "s = pd.Series(np.random.randint(0, 10, 10))\n",
    "print(s.values)\n",
    "plt.plot(s.index, s.values)\n",
    "plt.show()\n",
    "extr = np.diff(np.sign(np.diff(s)))\n",
    "print(extr)\n",
    "indexes = np.where(extr == -2)[0] + 1\n",
    "print(indexes)"
   ]
  },
  {
   "cell_type": "markdown",
   "metadata": {},
   "source": [
    "Заменить пробелы наименее часто встречающимся символом"
   ]
  },
  {
   "cell_type": "code",
   "execution_count": 6,
   "metadata": {},
   "outputs": [
    {
     "name": "stdout",
     "output_type": "stream",
     "text": [
      "л    5\n",
      "а    4\n",
      "к    4\n",
      "     4\n",
      "р    4\n",
      "ы    2\n",
      "у    2\n",
      "о    1\n",
      "dtype: int64\n",
      "карлоуокларыоукралокораллы\n"
     ]
    }
   ],
   "source": [
    "testString = 'карл у клары украл кораллы'\n",
    "s = pd.Series(list(testString))\n",
    "\n",
    "symbolsFreq = s.value_counts()\n",
    "print(symbolsFreq)\n",
    "testString = ''.join(s.replace(' ', symbolsFreq.index[-1]))\n",
    "print(testString)"
   ]
  },
  {
   "cell_type": "markdown",
   "metadata": {},
   "source": [
    "Создать объект Series, который содержит в индексах даты выходных дней субботы, а в значениях случайные числа от 1 до 10"
   ]
  },
  {
   "cell_type": "code",
   "execution_count": 9,
   "metadata": {},
   "outputs": [
    {
     "data": {
      "text/plain": [
       "2020-05-02    9\n",
       "2020-05-09    6\n",
       "2020-05-16    6\n",
       "2020-05-23    6\n",
       "2020-05-30    5\n",
       "2020-06-06    5\n",
       "2020-06-13    1\n",
       "2020-06-20    7\n",
       "2020-06-27    7\n",
       "2020-07-04    8\n",
       "2020-07-11    6\n",
       "2020-07-18    3\n",
       "2020-07-25    6\n",
       "2020-08-01    9\n",
       "2020-08-08    9\n",
       "Freq: W-SAT, dtype: int32"
      ]
     },
     "execution_count": 9,
     "metadata": {},
     "output_type": "execute_result"
    }
   ],
   "source": [
    "s = pd.Series(np.random.randint(1, 10, 15), pd.date_range('2020-05-01', periods = 15, freq = 'W-'))\n",
    "s"
   ]
  },
  {
   "cell_type": "markdown",
   "metadata": {},
   "source": [
    "Заполнить пропущенные даты значением выше (заполненной даты)"
   ]
  },
  {
   "cell_type": "code",
   "execution_count": 11,
   "metadata": {},
   "outputs": [
    {
     "name": "stdout",
     "output_type": "stream",
     "text": [
      "2020-05-01    1\n",
      "2020-05-05    2\n",
      "2020-05-09    3\n",
      "dtype: int64\n",
      "[(Timestamp('2020-05-01 00:00:00', freq='D'), 2020-05-01    1\n",
      "dtype: int64), (Timestamp('2020-05-02 00:00:00', freq='D'), Series([], dtype: int64)), (Timestamp('2020-05-03 00:00:00', freq='D'), Series([], dtype: int64)), (Timestamp('2020-05-04 00:00:00', freq='D'), Series([], dtype: int64)), (Timestamp('2020-05-05 00:00:00', freq='D'), 2020-05-05    2\n",
      "dtype: int64), (Timestamp('2020-05-06 00:00:00', freq='D'), Series([], dtype: int64)), (Timestamp('2020-05-07 00:00:00', freq='D'), Series([], dtype: int64)), (Timestamp('2020-05-08 00:00:00', freq='D'), Series([], dtype: int64)), (Timestamp('2020-05-09 00:00:00', freq='D'), 2020-05-09    3\n",
      "dtype: int64)]\n"
     ]
    }
   ],
   "source": [
    "filledDates = pd.Series([1, 2, 3], index = pd.to_datetime(['2020-05-01', '2020-05-05', '2020-05-09']))\n",
    "print(filledDates)\n",
    "allDates = list(filledDates.resample('D'))\n",
    "print(allDates)"
   ]
  },
  {
   "cell_type": "markdown",
   "metadata": {},
   "source": [
    "Вычислить автокорреляцию объекта Series"
   ]
  },
  {
   "cell_type": "code",
   "execution_count": 166,
   "metadata": {},
   "outputs": [
    {
     "name": "stdout",
     "output_type": "stream",
     "text": [
      "0     4\n",
      "1     2\n",
      "2     7\n",
      "3     6\n",
      "4     2\n",
      "5     5\n",
      "6     4\n",
      "7     2\n",
      "8     3\n",
      "9     6\n",
      "10    2\n",
      "11    4\n",
      "12    4\n",
      "13    2\n",
      "14    0\n",
      "15    6\n",
      "dtype: int32\n",
      "[1.0, -0.22646007257119813, -0.36448230574558627, 0.451376310962561]\n"
     ]
    }
   ],
   "source": [
    "n = 16\n",
    " \n",
    "s = pd.Series(np.random.randint(0, 8, n))\n",
    "print(s)\n",
    "\n",
    "autocorr = [s.autocorr(lag = i) for i in range(n // 4)]\n",
    "print(autocorr)"
   ]
  }
 ],
 "metadata": {
  "kernelspec": {
   "display_name": "Python 3",
   "language": "python",
   "name": "python3"
  },
  "language_info": {
   "codemirror_mode": {
    "name": "ipython",
    "version": 3
   },
   "file_extension": ".py",
   "mimetype": "text/x-python",
   "name": "python",
   "nbconvert_exporter": "python",
   "pygments_lexer": "ipython3",
   "version": "3.8.3"
  }
 },
 "nbformat": 4,
 "nbformat_minor": 4
}
